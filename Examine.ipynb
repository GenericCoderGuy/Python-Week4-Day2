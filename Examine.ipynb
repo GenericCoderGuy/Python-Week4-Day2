{
 "cells": [
  {
   "cell_type": "markdown",
   "metadata": {},
   "source": [
    "## Codewars + Asymptotic Analysis"
   ]
  },
  {
   "cell_type": "code",
   "execution_count": 4,
   "metadata": {},
   "outputs": [],
   "source": [
    "### Question 1: Student's Final Grade (8-Kyu)\n",
    "# Create a function finalGrade,\n",
    "# which calculates the final grade of a student depending on two parameters:\n",
    "# a grade for the exam and a number of completed projects.\n",
    "\n",
    "# Time complexity: O(1)\n",
    "# Space complexity: O(1)\n",
    "def final_grade(exam, projects):\n",
    "    if exam > 90 or projects > 10:\n",
    "        return 100\n",
    "    elif exam > 75 and projects >= 5:\n",
    "        return 90\n",
    "    elif exam > 50 and projects >= 2:\n",
    "        return 75\n",
    "    else:\n",
    "        return 0"
   ]
  },
  {
   "cell_type": "code",
   "execution_count": 5,
   "metadata": {},
   "outputs": [
    {
     "data": {
      "text/plain": [
       "100"
      ]
     },
     "execution_count": 5,
     "metadata": {},
     "output_type": "execute_result"
    }
   ],
   "source": [
    "final_grade(60, 20)"
   ]
  },
  {
   "cell_type": "code",
   "execution_count": 6,
   "metadata": {},
   "outputs": [],
   "source": [
    "### Question 2: Name on billboard (8-Kyu)\n",
    "# You can print your name on a billboard ad. Find out how much it will cost you.\n",
    "# Each character has a default price of £30, but that can be different if you are given 2 parameters instead of 1.\n",
    "# You can not use multiplier \"*\" operator.\n",
    "# If your name would be Jeong-Ho Aristotelis, ad would cost £600. 20 leters * 30 = 600 (Space counts as a character).\n",
    "\n",
    "# Time complexity: 0(n)\n",
    "# Space complexity: O(1)\n",
    "def billboard(name, price=30):\n",
    "    name = list(name) # O(1)\n",
    "    count = 0 # O(1)\n",
    "    while True:\n",
    "        for x in range(len(name)):\n",
    "            count += price\n",
    "        return count"
   ]
  },
  {
   "cell_type": "code",
   "execution_count": 7,
   "metadata": {},
   "outputs": [
    {
     "data": {
      "text/plain": [
       "150"
      ]
     },
     "execution_count": 7,
     "metadata": {},
     "output_type": "execute_result"
    }
   ],
   "source": [
    "billboard('Bobby Bob', 500)\n",
    "billboard('Bobby')"
   ]
  },
  {
   "cell_type": "code",
   "execution_count": 8,
   "metadata": {},
   "outputs": [],
   "source": [
    "### Question 3: Find the unique number (6-Kyu)\n",
    "# There is an array with some numbers. All numbers are equal except for one. Try to find it!\n",
    "# It’s guaranteed that array contains at least 3 numbers.\n",
    "# The tests contain some very huge arrays, so think about performance.\n",
    "\n",
    "# Time complexity: O(1)\n",
    "# Space complexity: O(1)\n",
    "def find_uniq(arr):\n",
    "    arr = sorted(arr) # O(1)\n",
    "    if arr[0] == arr[1]:\n",
    "        return arr[-1]\n",
    "    else:\n",
    "        return arr[0]"
   ]
  },
  {
   "cell_type": "code",
   "execution_count": 9,
   "metadata": {},
   "outputs": [
    {
     "data": {
      "text/plain": [
       "2"
      ]
     },
     "execution_count": 9,
     "metadata": {},
     "output_type": "execute_result"
    }
   ],
   "source": [
    "find_uniq([1,1,2,1,1,1])"
   ]
  }
 ],
 "metadata": {
  "kernelspec": {
   "display_name": "Python 3.10.6 64-bit",
   "language": "python",
   "name": "python3"
  },
  "language_info": {
   "codemirror_mode": {
    "name": "ipython",
    "version": 3
   },
   "file_extension": ".py",
   "mimetype": "text/x-python",
   "name": "python",
   "nbconvert_exporter": "python",
   "pygments_lexer": "ipython3",
   "version": "3.10.6"
  },
  "orig_nbformat": 4,
  "vscode": {
   "interpreter": {
    "hash": "aee8b7b246df8f9039afb4144a1f6fd8d2ca17a180786b69acc140d282b71a49"
   }
  }
 },
 "nbformat": 4,
 "nbformat_minor": 2
}
